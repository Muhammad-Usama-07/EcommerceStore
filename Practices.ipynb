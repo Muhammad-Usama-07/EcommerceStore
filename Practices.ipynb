{
 "cells": [
  {
   "cell_type": "code",
   "execution_count": 2,
   "id": "cad9ad62-e305-4ffd-8244-ae57c863c76b",
   "metadata": {},
   "outputs": [
    {
     "name": "stdout",
     "output_type": "stream",
     "text": [
      "Hello\n"
     ]
    }
   ],
   "source": [
    "print(\"Hello\")"
   ]
  },
  {
   "cell_type": "markdown",
   "id": "37e5d807-0fc2-4ca7-9477-0d38fa28d3e8",
   "metadata": {},
   "source": [
    "# install libraries"
   ]
  },
  {
   "cell_type": "code",
   "execution_count": 5,
   "id": "648174a9-f96b-4b7c-9396-9dbbcbb1c3a3",
   "metadata": {},
   "outputs": [
    {
     "name": "stdout",
     "output_type": "stream",
     "text": [
      "Collecting textblob\n",
      "  Downloading textblob-0.19.0-py3-none-any.whl.metadata (4.4 kB)\n",
      "Collecting nltk>=3.9 (from textblob)\n",
      "  Downloading nltk-3.9.1-py3-none-any.whl.metadata (2.9 kB)\n",
      "Requirement already satisfied: click in f:\\workfile\\py_env\\gen_env_3.11.5\\lib\\site-packages (from nltk>=3.9->textblob) (8.1.7)\n",
      "Requirement already satisfied: joblib in f:\\workfile\\py_env\\gen_env_3.11.5\\lib\\site-packages (from nltk>=3.9->textblob) (1.4.2)\n",
      "Collecting regex>=2021.8.3 (from nltk>=3.9->textblob)\n",
      "  Downloading regex-2025.7.34-cp311-cp311-win_amd64.whl.metadata (41 kB)\n",
      "Requirement already satisfied: tqdm in f:\\workfile\\py_env\\gen_env_3.11.5\\lib\\site-packages (from nltk>=3.9->textblob) (4.66.5)\n",
      "Requirement already satisfied: colorama in f:\\workfile\\py_env\\gen_env_3.11.5\\lib\\site-packages (from click->nltk>=3.9->textblob) (0.4.6)\n",
      "Downloading textblob-0.19.0-py3-none-any.whl (624 kB)\n",
      "   ---------------------------------------- 0.0/624.3 kB ? eta -:--:--\n",
      "   ---------------------------------------- 624.3/624.3 kB 5.7 MB/s eta 0:00:00\n",
      "Downloading nltk-3.9.1-py3-none-any.whl (1.5 MB)\n",
      "   ---------------------------------------- 0.0/1.5 MB ? eta -:--:--\n",
      "   ---------------------------------------- 1.5/1.5 MB 8.0 MB/s eta 0:00:00\n",
      "Downloading regex-2025.7.34-cp311-cp311-win_amd64.whl (276 kB)\n",
      "Installing collected packages: regex, nltk, textblob\n",
      "Successfully installed nltk-3.9.1 regex-2025.7.34 textblob-0.19.0\n"
     ]
    },
    {
     "name": "stderr",
     "output_type": "stream",
     "text": [
      "\n",
      "[notice] A new release of pip is available: 25.0.1 -> 25.2\n",
      "[notice] To update, run: python.exe -m pip install --upgrade pip\n"
     ]
    }
   ],
   "source": [
    "# pip install apify-client\n",
    "# !pip install textblob"
   ]
  },
  {
   "cell_type": "markdown",
   "id": "71c80fc1-0e62-41e8-b14e-4adbf07d87f2",
   "metadata": {},
   "source": [
    "# Extract some data"
   ]
  },
  {
   "cell_type": "code",
   "execution_count": 8,
   "id": "2254291c-6424-481e-91a5-4269a199aa50",
   "metadata": {},
   "outputs": [
    {
     "name": "stdout",
     "output_type": "stream",
     "text": [
      "🚀 Starting Twitter scrape...\n",
      "❌ Error: Actor with this name was not found\n"
     ]
    }
   ],
   "source": [
    "from apify_client import ApifyClient\n",
    "import pandas as pd\n",
    "from textblob import TextBlob  # For sentiment analysis\n",
    "\n",
    "# Initialize Apify client with your API key\n",
    "client = ApifyClient(\"\")\n",
    "\n",
    "# Correct Actor ID (replace with the latest one!)\n",
    "ACTOR_ID = \"maxcopell/twitter-scraper\"  # Example (check Apify Store)\n",
    "# Configure input\n",
    "run_input = {\n",
    "    \"searchTerms\": [\"#vape OR #vaping OR 'disposable vape' lang:en\"],\n",
    "    \"maxTweets\": 500,\n",
    "    \"proxyConfig\": {\"useApifyProxy\": True},\n",
    "}\n",
    "\n",
    "# Run the Actor\n",
    "print(\"🚀 Starting Twitter scrape...\")\n",
    "try:\n",
    "    run = client.actor(ACTOR_ID).call(run_input=run_input)\n",
    "    \n",
    "    # Fetch results\n",
    "    tweets = []\n",
    "    for item in client.dataset(run[\"defaultDatasetId\"]).iterate_items():\n",
    "        tweets.append({\n",
    "            \"text\": item.get(\"text\", \"\"),\n",
    "            \"likes\": item.get(\"likes\", 0),\n",
    "            \"retweets\": item.get(\"retweets\", 0),\n",
    "            \"username\": item.get(\"user\", {}).get(\"username\", \"\"),\n",
    "            \"date\": item.get(\"date\", \"\"),\n",
    "            \"hashtags\": item.get(\"hashtags\", []),\n",
    "        })\n",
    "\n",
    "    # Save to CSV\n",
    "    df = pd.DataFrame(tweets)\n",
    "    df[\"sentiment\"] = df[\"text\"].apply(lambda x: TextBlob(x).sentiment.polarity)\n",
    "    df.to_csv(\"vape_tweets.csv\", index=False)\n",
    "    print(f\"✅ Saved {len(df)} tweets to 'vape_tweets.csv'!\")\n",
    "\n",
    "except Exception as e:\n",
    "    print(f\"❌ Error: {e}\")"
   ]
  },
  {
   "cell_type": "code",
   "execution_count": null,
   "id": "f076ee96-e458-4e28-aca1-faeb5955d8ac",
   "metadata": {},
   "outputs": [],
   "source": []
  }
 ],
 "metadata": {
  "kernelspec": {
   "display_name": "Python 3 (ipykernel)",
   "language": "python",
   "name": "python3"
  },
  "language_info": {
   "codemirror_mode": {
    "name": "ipython",
    "version": 3
   },
   "file_extension": ".py",
   "mimetype": "text/x-python",
   "name": "python",
   "nbconvert_exporter": "python",
   "pygments_lexer": "ipython3",
   "version": "3.11.5"
  }
 },
 "nbformat": 4,
 "nbformat_minor": 5
}
