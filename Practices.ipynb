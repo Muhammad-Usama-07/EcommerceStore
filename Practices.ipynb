{
 "cells": [
  {
   "cell_type": "code",
   "execution_count": 2,
   "id": "cad9ad62-e305-4ffd-8244-ae57c863c76b",
   "metadata": {},
   "outputs": [
    {
     "name": "stdout",
     "output_type": "stream",
     "text": [
      "Hello\n"
     ]
    }
   ],
   "source": [
    "print(\"Hello\")"
   ]
  },
  {
   "cell_type": "markdown",
   "id": "37e5d807-0fc2-4ca7-9477-0d38fa28d3e8",
   "metadata": {},
   "source": [
    "# install libraries"
   ]
  },
  {
   "cell_type": "code",
   "execution_count": 11,
   "id": "648174a9-f96b-4b7c-9396-9dbbcbb1c3a3",
   "metadata": {},
   "outputs": [],
   "source": [
    "# pip install apify-client\n",
    "# !pip install textblob\n",
    "# pip install Praw\n",
    "# pip install TikTokApi "
   ]
  },
  {
   "cell_type": "markdown",
   "id": "71c80fc1-0e62-41e8-b14e-4adbf07d87f2",
   "metadata": {},
   "source": [
    "# Extract data from reddddit"
   ]
  },
  {
   "cell_type": "code",
   "execution_count": 6,
   "id": "2254291c-6424-481e-91a5-4269a199aa50",
   "metadata": {},
   "outputs": [
    {
     "name": "stdout",
     "output_type": "stream",
     "text": [
      "{'datetime': 1754839769.0, 'niche': 'vape', 'product': None, 'hashtags': None, 'description': 'I built a machine that turns thread into portraits', 'country': None, 'area': None, 'store/channel_name': 'Quiet_Compote_6803', 'social_platform': 'reddit'}\n",
      "{'datetime': 1462377072.0, 'niche': 'vape', 'product': None, 'hashtags': None, 'description': 'Maker AMA Series: I am Adam Savage, maker, editor-in-chief of Tested.com and former host of MythBusters. AMAAM! (Ask Me Anything About Making!)', 'country': None, 'area': None, 'store/channel_name': 'mistersavage', 'social_platform': 'reddit'}\n",
      "{'datetime': 1742483895.0, 'niche': 'vape', 'product': None, 'hashtags': None, 'description': 'I made a really cool lamp and I’m really proud of it!', 'country': None, 'area': None, 'store/channel_name': 'careyi4', 'social_platform': 'reddit'}\n",
      "{'datetime': 1740090113.0, 'niche': 'vape', 'product': None, 'hashtags': None, 'description': 'I made an eternal flame in a tiny dumpster that burns until the end of the Trump presidency', 'country': None, 'area': None, 'store/channel_name': 'eternaltrashfire', 'social_platform': 'reddit'}\n",
      "{'datetime': 1651194525.0, 'niche': 'vape', 'product': None, 'hashtags': None, 'description': 'I made a rug of my cat. I think it looks a little derpy but it looks pretty close for being a rug!', 'country': None, 'area': None, 'store/channel_name': 'Zaldraz', 'social_platform': 'reddit'}\n"
     ]
    }
   ],
   "source": [
    "import praw\n",
    "\n",
    "reddit = praw.Reddit(\n",
    "    client_id=\"h7SCVUWMMkrKxa6dW7K6aA\",\n",
    "    client_secret=\"ndIj2lKITQBJ6NzHAD10FkyuPZer2A\",\n",
    "    user_agent=\"my_app\"\n",
    ")\n",
    "\n",
    "# Example: fetch top posts from r/electronic_cigarette\n",
    "subreddit = reddit.subreddit(\"maker\")\n",
    "\n",
    "for post in subreddit.top(limit=5):\n",
    "    print({\n",
    "        \"datetime\": post.created_utc,\n",
    "        \"niche\": \"vape\",\n",
    "        \"product\": None,\n",
    "        \"hashtags\": None,\n",
    "        \"description\": post.title,\n",
    "        \"country\": None,\n",
    "        \"area\": None,\n",
    "        \"store/channel_name\": post.author.name if post.author else None,\n",
    "        \"social_platform\": \"reddit\"\n",
    "    })\n"
   ]
  },
  {
   "cell_type": "markdown",
   "id": "136fa35e-c426-40ef-be80-2bf11b70077a",
   "metadata": {},
   "source": [
    "# Extract relevant information only "
   ]
  },
  {
   "cell_type": "code",
   "execution_count": 8,
   "id": "f076ee96-e458-4e28-aca1-faeb5955d8ac",
   "metadata": {},
   "outputs": [
    {
     "name": "stdout",
     "output_type": "stream",
     "text": [
      "Total rows: 0\n"
     ]
    }
   ],
   "source": [
    "# ----- PRAW: targeted vape data fetch (last 7 days) -----\n",
    "import re\n",
    "from datetime import datetime, timedelta, timezone\n",
    "from zoneinfo import ZoneInfo\n",
    "\n",
    "import praw\n",
    "\n",
    "# --- 1) Configure your Reddit credentials ---\n",
    "# reddit = praw.Reddit(\n",
    "#     client_id=\"YOUR_CLIENT_ID\",\n",
    "#     client_secret=\"YOUR_CLIENT_SECRET\",\n",
    "#     user_agent=\"my_vape_app/1.0\"\n",
    "# )\n",
    "reddit = praw.Reddit(\n",
    "    client_id=\"h7SCVUWMMkrKxa6dW7K6aA\",\n",
    "    client_secret=\"ndIj2lKITQBJ6NzHAD10FkyuPZer2A\",\n",
    "    user_agent=\"my_app\"\n",
    ")\n",
    "\n",
    "# --- 2) Target subreddits that are actually about vaping ---\n",
    "VAPE_SUBS = [\n",
    "         \"VapeWild\",\"Juul\" # remove subs you don't want\n",
    "]\n",
    "\n",
    "# --- 3) Vape keyword filter (title/selftext) ---\n",
    "KEYWORD_RE = re.compile(\n",
    "    r\"\\b(vape|vaping|e-?cig|e\\s*cigarette|e-?liquid|ejuice|\"\n",
    "    r\"nic(?:otine)?\\s*salt|pod(?:\\s*system)?|disposable|mod|coil|atomizer|\"\n",
    "    r\"lush\\s*ice|strawberry\\s*kiwi|blue\\s*razz|mango\\s*ice|elf\\s*bar|juul|smok|vaporesso|relx|lost\\s*mary)\\b\",\n",
    "    flags=re.IGNORECASE\n",
    ")\n",
    "\n",
    "# --- 4) Simple flavor/product extraction (extend as you wish) ---\n",
    "FLAVORS = [\n",
    "    \"Lush Ice\", \"Strawberry Kiwi\", \"Blue Razz\", \"Mango Ice\", \"Watermelon Ice\",\n",
    "    \"Peach Ice\", \"Grape Ice\", \"Cool Mint\", \"Triple Mango\", \"Pink Lemonade\", \"Cola Ice\"\n",
    "]\n",
    "BRANDS = [\"Elf Bar\", \"JUUL\", \"SMOK\", \"Vaporesso\", \"RELX\", \"HQD\", \"Lost Mary\", \"Geek Bar\", \"OXBAR\"]\n",
    "\n",
    "def extract_product(text):\n",
    "    hit = None\n",
    "    for f in FLAVORS:\n",
    "        if f.lower() in text.lower():\n",
    "            hit = f\n",
    "            break\n",
    "    if not hit:\n",
    "        for b in BRANDS:\n",
    "            if b.lower() in text.lower():\n",
    "                hit = b\n",
    "                break\n",
    "    return hit\n",
    "\n",
    "def extract_hashtags(text):\n",
    "    # Reddit rarely uses hashtags, but capture them if present\n",
    "    return re.findall(r\"#\\w+\", text)\n",
    "\n",
    "def to_pk_time(utc_ts):\n",
    "    dt = datetime.fromtimestamp(utc_ts, tz=timezone.utc).astimezone(ZoneInfo(\"Asia/Karachi\"))\n",
    "    return dt.strftime(\"%d/%m/%Y %H:%M:%S\")  # matches your 23/08/2025 style\n",
    "\n",
    "def fetch_reddit_vape_last_week(limit_per_sub=200):\n",
    "    now_utc = datetime.now(timezone.utc)\n",
    "    since_utc = now_utc - timedelta(days=7)\n",
    "    since_ts = since_utc.timestamp()\n",
    "\n",
    "    all_rows = []\n",
    "    seen_ids = set()\n",
    "\n",
    "    # Lucene query focuses search; we still post-filter with regex\n",
    "    lucene_query = (\n",
    "        '(title:(vape OR vaping OR \"e cig\" OR \"e-cig\" OR \"e liquid\" OR ejuice OR disposable OR \"nic salt\" OR pod)'\n",
    "        ' OR selftext:(vape OR vaping OR \"e cig\" OR \"e-cig\" OR \"e liquid\" OR ejuice OR disposable OR \"nic salt\" OR pod))'\n",
    "    )\n",
    "\n",
    "    for sub in VAPE_SUBS:\n",
    "        sr = reddit.subreddit(sub)\n",
    "        # Search recent; we’ll still enforce the exact time range ourselves:\n",
    "        for post in sr.search(lucene_query, syntax=\"lucene\", sort=\"new\", limit=limit_per_sub):\n",
    "            if post.id in seen_ids:\n",
    "                continue\n",
    "            seen_ids.add(post.id)\n",
    "\n",
    "            # Time window: last 7 days\n",
    "            if not getattr(post, \"created_utc\", None):\n",
    "                continue\n",
    "            if post.created_utc < since_ts:\n",
    "                continue\n",
    "\n",
    "            # Text to filter against\n",
    "            title = post.title or \"\"\n",
    "            selftext = getattr(post, \"selftext\", \"\") or \"\"\n",
    "            combined = f\"{title}\\n{selftext}\"\n",
    "\n",
    "            # Vape keyword filter\n",
    "            if not KEYWORD_RE.search(combined):\n",
    "                continue\n",
    "\n",
    "            # Build row in your schema\n",
    "            row = {\n",
    "                \"datetime\": to_pk_time(post.created_utc),\n",
    "                \"niche\": \"vape\",\n",
    "                \"product\": extract_product(combined),\n",
    "                \"hashtags\": extract_hashtags(combined),\n",
    "                \"description\": title if len(title) > 5 else (selftext[:180] + \"…\"),\n",
    "                \"country\": None,   # Reddit doesn't provide reliably\n",
    "                \"area\": None,\n",
    "                \"store/channel_name\": post.author.name if post.author else None,\n",
    "                \"social_platform\": \"reddit\",\n",
    "            }\n",
    "            all_rows.append(row)\n",
    "\n",
    "    return all_rows\n",
    "\n",
    "if __name__ == \"__main__\":\n",
    "    rows = fetch_reddit_vape_last_week()\n",
    "    for r in rows[:10]:\n",
    "        print(r)\n",
    "    print(f\"Total rows: {len(rows)}\")\n"
   ]
  },
  {
   "cell_type": "markdown",
   "id": "c0d896b1-5969-4623-89bc-5fb31d48218e",
   "metadata": {},
   "source": [
    "# Extract data from TikTokApi"
   ]
  },
  {
   "cell_type": "code",
   "execution_count": 24,
   "id": "5c78c637-5abf-4844-8e75-9f24334ca3d5",
   "metadata": {},
   "outputs": [],
   "source": [
    "from TikTokApi import TikTokApi"
   ]
  },
  {
   "cell_type": "code",
   "execution_count": null,
   "id": "3b95aa4e-deb5-4410-9112-d4119d78e7ae",
   "metadata": {},
   "outputs": [],
   "source": []
  }
 ],
 "metadata": {
  "kernelspec": {
   "display_name": "Python 3 (ipykernel)",
   "language": "python",
   "name": "python3"
  },
  "language_info": {
   "codemirror_mode": {
    "name": "ipython",
    "version": 3
   },
   "file_extension": ".py",
   "mimetype": "text/x-python",
   "name": "python",
   "nbconvert_exporter": "python",
   "pygments_lexer": "ipython3",
   "version": "3.11.5"
  }
 },
 "nbformat": 4,
 "nbformat_minor": 5
}
