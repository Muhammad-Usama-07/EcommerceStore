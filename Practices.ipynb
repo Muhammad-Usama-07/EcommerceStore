{
 "cells": [
  {
   "cell_type": "code",
   "execution_count": 2,
   "id": "cad9ad62-e305-4ffd-8244-ae57c863c76b",
   "metadata": {},
   "outputs": [
    {
     "name": "stdout",
     "output_type": "stream",
     "text": [
      "Hello\n"
     ]
    }
   ],
   "source": [
    "print(\"Hello\")"
   ]
  },
  {
   "cell_type": "markdown",
   "id": "37e5d807-0fc2-4ca7-9477-0d38fa28d3e8",
   "metadata": {},
   "source": [
    "# install apify library"
   ]
  },
  {
   "cell_type": "code",
   "execution_count": 1,
   "id": "648174a9-f96b-4b7c-9396-9dbbcbb1c3a3",
   "metadata": {},
   "outputs": [
    {
     "name": "stdout",
     "output_type": "stream",
     "text": [
      "Collecting apify-clientNote: you may need to restart the kernel to use updated packages.\n"
     ]
    },
    {
     "name": "stderr",
     "output_type": "stream",
     "text": [
      "\n",
      "[notice] A new release of pip is available: 25.0.1 -> 25.2\n",
      "[notice] To update, run: python.exe -m pip install --upgrade pip\n"
     ]
    },
    {
     "name": "stdout",
     "output_type": "stream",
     "text": [
      "\n",
      "  Downloading apify_client-2.0.0-py3-none-any.whl.metadata (17 kB)\n",
      "Collecting apify-shared<3.0.0,>=2.0.0 (from apify-client)\n",
      "  Downloading apify_shared-2.0.0-py3-none-any.whl.metadata (14 kB)\n",
      "Requirement already satisfied: colorama>=0.4.0 in f:\\workfile\\py_env\\gen_env_3.11.5\\lib\\site-packages (from apify-client) (0.4.6)\n",
      "Collecting impit>=0.5.3 (from apify-client)\n",
      "  Downloading impit-0.5.3-cp311-cp311-win_amd64.whl.metadata (2.6 kB)\n",
      "Collecting more-itertools>=10.0.0 (from apify-client)\n",
      "  Downloading more_itertools-10.7.0-py3-none-any.whl.metadata (37 kB)\n",
      "Downloading apify_client-2.0.0-py3-none-any.whl (84 kB)\n",
      "Downloading apify_shared-2.0.0-py3-none-any.whl (16 kB)\n",
      "Downloading impit-0.5.3-cp311-cp311-win_amd64.whl (3.9 MB)\n",
      "   ---------------------------------------- 0.0/3.9 MB ? eta -:--:--\n",
      "   ---------- ----------------------------- 1.0/3.9 MB 10.1 MB/s eta 0:00:01\n",
      "   ---------------- ----------------------- 1.6/3.9 MB 3.8 MB/s eta 0:00:01\n",
      "   --------------------- ------------------ 2.1/3.9 MB 4.3 MB/s eta 0:00:01\n",
      "   -------------------------------- ------- 3.1/3.9 MB 4.3 MB/s eta 0:00:01\n",
      "   ---------------------------------------- 3.9/3.9 MB 4.1 MB/s eta 0:00:00\n",
      "Downloading more_itertools-10.7.0-py3-none-any.whl (65 kB)\n",
      "Installing collected packages: more-itertools, impit, apify-shared, apify-client\n",
      "Successfully installed apify-client-2.0.0 apify-shared-2.0.0 impit-0.5.3 more-itertools-10.7.0\n"
     ]
    }
   ],
   "source": [
    "pip install apify-client"
   ]
  },
  {
   "cell_type": "markdown",
   "id": "71c80fc1-0e62-41e8-b14e-4adbf07d87f2",
   "metadata": {},
   "source": [
    "# Extract some data"
   ]
  },
  {
   "cell_type": "code",
   "execution_count": null,
   "id": "2254291c-6424-481e-91a5-4269a199aa50",
   "metadata": {},
   "outputs": [],
   "source": [
    "from apify_client import ApifyClient\n",
    "import pandas as pd\n",
    "from textblob import TextBlob  # For sentiment analysis\n",
    "\n",
    "# Initialize Apify client with your API key\n",
    "client = ApifyClient(\"YOUR_APIFY_API_KEY\")\n",
    "\n",
    "# Prepare the Actor (Twitter Scraper) input\n",
    "run_input = {\n",
    "    \"searchQueries\": [\"#vape OR #vaping OR 'disposable vape' lang:en\"],\n",
    "    \"maxTweets\": 500,  # Adjust as needed\n",
    "    \"includeReplies\": False,\n",
    "    \"proxyConfiguration\": {\"useApifyProxy\": True},  # Avoid blocks\n",
    "}\n",
    "\n",
    "# Run the Twitter Scraper\n",
    "print(\"🚀 Launching Apify Twitter Scraper...\")\n",
    "run = client.actor(\"u6ppk7XqsJQib3vUd\").call(run_input=run_input)\n",
    "\n",
    "# Fetch and process results\n",
    "tweets = []\n",
    "for item in client.dataset(run[\"defaultDatasetId\"]).iterate_items():\n",
    "    tweets.append({\n",
    "        \"text\": item.get(\"text\", \"\"),\n",
    "        \"likes\": item.get(\"likeCount\", 0),\n",
    "        \"retweets\": item.get(\"retweetCount\", 0),\n",
    "        \"username\": item.get(\"user\", {}).get(\"username\", \"\"),\n",
    "        \"date\": item.get(\"createdAt\", \"\"),\n",
    "        \"hashtags\": item.get(\"hashtags\", []),\n",
    "    })\n",
    "\n",
    "# Convert to DataFrame and analyze\n",
    "df = pd.DataFrame(tweets)\n",
    "df[\"sentiment\"] = df[\"text\"].apply(lambda x: TextBlob(x).sentiment.polarity)\n",
    "\n",
    "# Save to CSV\n",
    "df.to_csv(\"vape_tweets.csv\", index=False)\n",
    "print(f\"✅ Saved {len(df)} tweets to 'vape_tweets.csv'!\")\n",
    "\n",
    "# Optional: Print top hashtags\n",
    "top_hashtags = df[\"hashtags\"].explode().value_counts().head(10)\n",
    "print(\"🔥 Top Vape Hashtags:\\n\", top_hashtags)"
   ]
  }
 ],
 "metadata": {
  "kernelspec": {
   "display_name": "Python 3 (ipykernel)",
   "language": "python",
   "name": "python3"
  },
  "language_info": {
   "codemirror_mode": {
    "name": "ipython",
    "version": 3
   },
   "file_extension": ".py",
   "mimetype": "text/x-python",
   "name": "python",
   "nbconvert_exporter": "python",
   "pygments_lexer": "ipython3",
   "version": "3.11.5"
  }
 },
 "nbformat": 4,
 "nbformat_minor": 5
}
